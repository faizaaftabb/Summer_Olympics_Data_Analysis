{
 "cells": [
  {
   "cell_type": "markdown",
   "metadata": {},
   "source": [
    "# Summer Olympics Data Analysis "
   ]
  },
  {
   "cell_type": "code",
   "execution_count": 1,
   "metadata": {},
   "outputs": [],
   "source": [
    "#Importing the required libraries, i.e. Pandas & Numpy, to analyse the data.\n",
    "\n",
    "import pandas as pd\n",
    "import numpy as np\n",
    "import matplotlib.pyplot as plt"
   ]
  },
  {
   "cell_type": "code",
   "execution_count": 2,
   "metadata": {},
   "outputs": [],
   "source": [
    "#Reading a comma-separated values (csv) file into DataFrame.\n",
    "\n",
    "df = pd.read_csv(\"summer.csv\")"
   ]
  },
  {
   "cell_type": "code",
   "execution_count": 3,
   "metadata": {},
   "outputs": [
    {
     "data": {
      "text/html": [
       "<div>\n",
       "<style scoped>\n",
       "    .dataframe tbody tr th:only-of-type {\n",
       "        vertical-align: middle;\n",
       "    }\n",
       "\n",
       "    .dataframe tbody tr th {\n",
       "        vertical-align: top;\n",
       "    }\n",
       "\n",
       "    .dataframe thead th {\n",
       "        text-align: right;\n",
       "    }\n",
       "</style>\n",
       "<table border=\"1\" class=\"dataframe\">\n",
       "  <thead>\n",
       "    <tr style=\"text-align: right;\">\n",
       "      <th></th>\n",
       "      <th>Year</th>\n",
       "      <th>City</th>\n",
       "      <th>Sport</th>\n",
       "      <th>Discipline</th>\n",
       "      <th>Athlete</th>\n",
       "      <th>Country</th>\n",
       "      <th>Gender</th>\n",
       "      <th>Event</th>\n",
       "      <th>Medal</th>\n",
       "    </tr>\n",
       "  </thead>\n",
       "  <tbody>\n",
       "    <tr>\n",
       "      <th>0</th>\n",
       "      <td>1896</td>\n",
       "      <td>Athens</td>\n",
       "      <td>Aquatics</td>\n",
       "      <td>Swimming</td>\n",
       "      <td>HAJOS, Alfred</td>\n",
       "      <td>HUN</td>\n",
       "      <td>Men</td>\n",
       "      <td>100M Freestyle</td>\n",
       "      <td>Gold</td>\n",
       "    </tr>\n",
       "    <tr>\n",
       "      <th>1</th>\n",
       "      <td>1896</td>\n",
       "      <td>Athens</td>\n",
       "      <td>Aquatics</td>\n",
       "      <td>Swimming</td>\n",
       "      <td>HERSCHMANN, Otto</td>\n",
       "      <td>AUT</td>\n",
       "      <td>Men</td>\n",
       "      <td>100M Freestyle</td>\n",
       "      <td>Silver</td>\n",
       "    </tr>\n",
       "    <tr>\n",
       "      <th>2</th>\n",
       "      <td>1896</td>\n",
       "      <td>Athens</td>\n",
       "      <td>Aquatics</td>\n",
       "      <td>Swimming</td>\n",
       "      <td>DRIVAS, Dimitrios</td>\n",
       "      <td>GRE</td>\n",
       "      <td>Men</td>\n",
       "      <td>100M Freestyle For Sailors</td>\n",
       "      <td>Bronze</td>\n",
       "    </tr>\n",
       "    <tr>\n",
       "      <th>3</th>\n",
       "      <td>1896</td>\n",
       "      <td>Athens</td>\n",
       "      <td>Aquatics</td>\n",
       "      <td>Swimming</td>\n",
       "      <td>MALOKINIS, Ioannis</td>\n",
       "      <td>GRE</td>\n",
       "      <td>Men</td>\n",
       "      <td>100M Freestyle For Sailors</td>\n",
       "      <td>Gold</td>\n",
       "    </tr>\n",
       "    <tr>\n",
       "      <th>4</th>\n",
       "      <td>1896</td>\n",
       "      <td>Athens</td>\n",
       "      <td>Aquatics</td>\n",
       "      <td>Swimming</td>\n",
       "      <td>CHASAPIS, Spiridon</td>\n",
       "      <td>GRE</td>\n",
       "      <td>Men</td>\n",
       "      <td>100M Freestyle For Sailors</td>\n",
       "      <td>Silver</td>\n",
       "    </tr>\n",
       "  </tbody>\n",
       "</table>\n",
       "</div>"
      ],
      "text/plain": [
       "   Year    City     Sport Discipline             Athlete Country Gender  \\\n",
       "0  1896  Athens  Aquatics   Swimming       HAJOS, Alfred     HUN    Men   \n",
       "1  1896  Athens  Aquatics   Swimming    HERSCHMANN, Otto     AUT    Men   \n",
       "2  1896  Athens  Aquatics   Swimming   DRIVAS, Dimitrios     GRE    Men   \n",
       "3  1896  Athens  Aquatics   Swimming  MALOKINIS, Ioannis     GRE    Men   \n",
       "4  1896  Athens  Aquatics   Swimming  CHASAPIS, Spiridon     GRE    Men   \n",
       "\n",
       "                        Event   Medal  \n",
       "0              100M Freestyle    Gold  \n",
       "1              100M Freestyle  Silver  \n",
       "2  100M Freestyle For Sailors  Bronze  \n",
       "3  100M Freestyle For Sailors    Gold  \n",
       "4  100M Freestyle For Sailors  Silver  "
      ]
     },
     "execution_count": 3,
     "metadata": {},
     "output_type": "execute_result"
    }
   ],
   "source": [
    "#Displaying the top 5 rows of DataFrame to know more about the column names. \n",
    "\n",
    "df.head()"
   ]
  },
  {
   "cell_type": "markdown",
   "metadata": {},
   "source": [
    "### 1. In how many cities Summer Olympics is held so far?"
   ]
  },
  {
   "cell_type": "code",
   "execution_count": 4,
   "metadata": {},
   "outputs": [
    {
     "name": "stdout",
     "output_type": "stream",
     "text": [
      "Summer Olympics is held in 22 cities so far.\n"
     ]
    }
   ],
   "source": [
    "#Defining an empty list to store all the city names.\n",
    "\n",
    "data1 = []\n",
    "\n",
    "#Iterating through all the unique names of CITIES and storing it in DATA1 list.\n",
    "\n",
    "for City in df['City'].unique():\n",
    "    data1.append(City)\n",
    "    \n",
    "#Printing the length of the DATA1 list.    \n",
    "    \n",
    "print (\"Summer Olympics is held in {} cities so far.\".format(len(data1)))"
   ]
  },
  {
   "cell_type": "markdown",
   "metadata": {},
   "source": [
    "### 2. Which sport is having most number of Gold Medals so far? (Top 5)"
   ]
  },
  {
   "cell_type": "code",
   "execution_count": 5,
   "metadata": {},
   "outputs": [
    {
     "name": "stdout",
     "output_type": "stream",
     "text": [
      "The top 5 sports having the most number of Gold Medals so far are:\n",
      " \n",
      "         Sport  Frequency\n",
      "0     Aquatics       1421\n",
      "1    Athletics       1215\n",
      "17      Rowing        890\n",
      "4   Gymnastics        820\n",
      "3      Fencing        552\n"
     ]
    },
    {
     "data": {
      "text/plain": [
       "<matplotlib.axes._subplots.AxesSubplot at 0x1f77d4e2f28>"
      ]
     },
     "execution_count": 5,
     "metadata": {},
     "output_type": "execute_result"
    },
    {
     "data": {
      "image/png": "[encoded data removed]",
      "text/plain": [
       "<matplotlib.figure.Figure at 0x1f77d4ca240>"
      ]
     },
     "metadata": {
      "needs_background": "light"
     },
     "output_type": "display_data"
    }
   ],
   "source": [
    "#Forming another DataFrame 'df2' where MEDAL==GOLD.\n",
    "\n",
    "df2= df[df[\"Medal\"]==\"Gold\"]\n",
    "\n",
    "#Defining an empty list.\n",
    "\n",
    "data2=[]\n",
    "\n",
    "#Iterating through all the unique names of SPORT in df2 and storing sport name & length of that DataFrame in DATA2.\n",
    "\n",
    "for Sport in df2[\"Sport\"].unique():\n",
    "    data2.append([Sport, len(df2[df2[\"Sport\"]==Sport])])\n",
    "    \n",
    "#Converting DATA2 list to DataFrame and sorting it in descending order.\n",
    "    \n",
    "data2=pd.DataFrame(data2, columns=[\"Sport\", \"Frequency\"]).sort_values(by=\"Frequency\", ascending=False)\n",
    "\n",
    "#Printing the top 5 values.\n",
    "\n",
    "print(\"The top 5 sports having the most number of Gold Medals so far are:\")\n",
    "print(\" \")\n",
    "print(data2.head())\n",
    "\n",
    "#Forming a bar graph of the top 5 values using .plot() function.\n",
    "\n",
    "data2.head().plot(x=\"Sport\", y=\"Frequency\", kind=\"bar\", figsize=(10,5))"
   ]
  },
  {
   "cell_type": "markdown",
   "metadata": {},
   "source": [
    "### 3. Which sport is having most number of medals so far? (Top 5)"
   ]
  },
  {
   "cell_type": "code",
   "execution_count": 6,
   "metadata": {},
   "outputs": [
    {
     "name": "stdout",
     "output_type": "stream",
     "text": [
      "The top 5 sports having the most number of Medals so far are:\n",
      " \n",
      "         Sport  Frequency\n",
      "0     Aquatics       4170\n",
      "1    Athletics       3638\n",
      "17      Rowing       2667\n",
      "4   Gymnastics       2307\n",
      "3      Fencing       1613\n"
     ]
    },
    {
     "data": {
      "text/plain": [
       "<matplotlib.axes._subplots.AxesSubplot at 0x1f77d4ca668>"
      ]
     },
     "execution_count": 6,
     "metadata": {},
     "output_type": "execute_result"
    },
    {
     "data": {
      "image/png": "[encoded data removed]",
      "text/plain": [
       "<matplotlib.figure.Figure at 0x1f77d4ca5c0>"
      ]
     },
     "metadata": {
      "needs_background": "light"
     },
     "output_type": "display_data"
    }
   ],
   "source": [
    "#Defining an empty list.\n",
    "\n",
    "data3=[]\n",
    "\n",
    "#Iterating through all the unique names of SPORT and storing the sport name & length of that DataFrame in DATA3.\n",
    "\n",
    "for Sport in df[\"Sport\"].unique():\n",
    "    data3.append([Sport, len(df[df[\"Sport\"]==Sport])])\n",
    "    \n",
    "#Converting DATA3 list to DataFrame and sorting it in descending order.\n",
    "    \n",
    "data3=pd.DataFrame(data3, columns=[\"Sport\", \"Frequency\"]).sort_values(by=\"Frequency\", ascending=False)\n",
    "\n",
    "#Printing the top 5 values.\n",
    "\n",
    "print(\"The top 5 sports having the most number of Medals so far are:\")\n",
    "print(\" \")\n",
    "print(data3.head())\n",
    "\n",
    "#Forming a bar graph of the top 5 values using .plot() function.\n",
    "\n",
    "data3.head().plot(x=\"Sport\", y=\"Frequency\", kind=\"bar\", figsize=(10,5))"
   ]
  },
  {
   "cell_type": "markdown",
   "metadata": {},
   "source": [
    "### 4. Which player has won most number of medals? (Top 5)"
   ]
  },
  {
   "cell_type": "code",
   "execution_count": 7,
   "metadata": {},
   "outputs": [
    {
     "name": "stdout",
     "output_type": "stream",
     "text": [
      "The top 5 players having most number of medals:\n",
      " \n",
      "                    Athlete  Frequency\n",
      "18640       PHELPS, Michael         22\n",
      "7197       LATYNINA, Larisa         18\n",
      "9948     ANDRIANOV, Nikolay         15\n",
      "6591           ONO, Takashi         13\n",
      "5103   MANGIAROTTI, Edoardo         13\n"
     ]
    },
    {
     "data": {
      "text/plain": [
       "<matplotlib.axes._subplots.AxesSubplot at 0x1f77d15a860>"
      ]
     },
     "execution_count": 7,
     "metadata": {},
     "output_type": "execute_result"
    },
    {
     "data": {
      "image/png": "[encoded data removed]",
      "text/plain": [
       "<matplotlib.figure.Figure at 0x1f77d013470>"
      ]
     },
     "metadata": {
      "needs_background": "light"
     },
     "output_type": "display_data"
    }
   ],
   "source": [
    "#Defining an empty list.\n",
    "\n",
    "data4=[]\n",
    "\n",
    "#Iterating through all the unique names of ATHLETE and storing Athlete name & length of that DataFrame in DATA4.\n",
    "\n",
    "for Athlete in df[\"Athlete\"].unique():\n",
    "    data4.append([Athlete, len(df[df[\"Athlete\"] == Athlete])])\n",
    "    \n",
    "#Converting DATA4 list to DataFrame and sorting it in descending order.\n",
    "    \n",
    "data4=pd.DataFrame(data4, columns = [\"Athlete\", \"Frequency\"]).sort_values(by= \"Frequency\", ascending = False)\n",
    "\n",
    "#Printing the top 5 values.\n",
    "\n",
    "print(\"The top 5 players having most number of medals:\")\n",
    "print(\" \")\n",
    "print(data4.head())\n",
    "\n",
    "#Forming a bar graph of the top 5 values using .plot() function.\n",
    "\n",
    "data4.head().plot(x=\"Athlete\", y=\"Frequency\", kind=\"bar\",figsize=(10,5))"
   ]
  },
  {
   "cell_type": "markdown",
   "metadata": {},
   "source": [
    "### 5. Which player has won most number Gold Medals of medals? (Top 5)"
   ]
  },
  {
   "cell_type": "code",
   "execution_count": 8,
   "metadata": {},
   "outputs": [
    {
     "name": "stdout",
     "output_type": "stream",
     "text": [
      "The top 5 players having the most number of Gold Medals so far are:\n",
      " \n",
      "               Athlete  Frequency\n",
      "6851   PHELPS, Michael         18\n",
      "3320       SPITZ, Mark          9\n",
      "2714  LATYNINA, Larisa          9\n",
      "4630       LEWIS, Carl          9\n",
      "907       NURMI, Paavo          9\n"
     ]
    },
    {
     "data": {
      "text/plain": [
       "<matplotlib.axes._subplots.AxesSubplot at 0x1f77d720320>"
      ]
     },
     "execution_count": 8,
     "metadata": {},
     "output_type": "execute_result"
    },
    {
     "data": {
      "image/png": "[encoded data removed]",
      "text/plain": [
       "<matplotlib.figure.Figure at 0x1f77d0024e0>"
      ]
     },
     "metadata": {
      "needs_background": "light"
     },
     "output_type": "display_data"
    }
   ],
   "source": [
    "#Defining an empty list.\n",
    "\n",
    "data5=[]\n",
    "\n",
    "#Forming another DataFrame df3 where MEDAL==GOLD.\n",
    "\n",
    "df3= df[df[\"Medal\"]==\"Gold\"]\n",
    "\n",
    "#Iterating through all the unique names of ATHLETE in df3 and storing Athlete name & length of that DataFrame in DATA5.\n",
    "\n",
    "for Athlete in df3[\"Athlete\"].unique():\n",
    "    data5.append([Athlete, len(df3[df3[\"Athlete\"]==Athlete])])\n",
    "    \n",
    "#Converting DATA5 list to DataFrame and sorting it in descending order.\n",
    "    \n",
    "data5=pd.DataFrame(data5, columns=[\"Athlete\", \"Frequency\"]).sort_values(by=\"Frequency\", ascending=False)\n",
    "\n",
    "#Printing the top 5 values.\n",
    "\n",
    "print(\"The top 5 players having the most number of Gold Medals so far are:\")\n",
    "print(\" \")\n",
    "print(data5.head())\n",
    "\n",
    "#Forming a bar graph of the top 5 values using .plot() function.\n",
    "\n",
    "data5.head().plot(x=\"Athlete\", y=\"Frequency\", kind=\"bar\", figsize=(10,5))"
   ]
  },
  {
   "cell_type": "markdown",
   "metadata": {},
   "source": [
    "### 6. In which year India won first Gold Medal in Summer Olympics?"
   ]
  },
  {
   "cell_type": "code",
   "execution_count": 9,
   "metadata": {},
   "outputs": [
    {
     "name": "stdout",
     "output_type": "stream",
     "text": [
      "India won its first gold medal in the year 1928.\n"
     ]
    }
   ],
   "source": [
    "#Making another DataFrame from the existing DataFrame where MEDAL==GOLD and COUNTRY=IND(INDIA).\n",
    "#Sorting the DataFrame in ascending order according to the YEAR.\n",
    "\n",
    "df3=df[(df[\"Medal\"]==\"Gold\") & (df[\"Country\"]==\"IND\")].sort_values(by=\"Year\", ascending = True)\n",
    "\n",
    "#Printing Year[0] to get the first year in which India won Gold Medal. \n",
    "#.iloc() is purely integer-location based indexing for selection by position.\n",
    "\n",
    "print(\"India won its first gold medal in the year {}.\".format(df3[\"Year\"].iloc[0]))"
   ]
  },
  {
   "cell_type": "markdown",
   "metadata": {},
   "source": [
    "### 7. Which event is most popular in terms on number of players? (Top 5)"
   ]
  },
  {
   "cell_type": "code",
   "execution_count": 10,
   "metadata": {},
   "outputs": [
    {
     "name": "stdout",
     "output_type": "stream",
     "text": [
      "The top 5 events popular in Summer Olympics based on the number of players: \n",
      " \n",
      "                Event  Frequency\n",
      "80           Football       1497\n",
      "176            Hockey       1422\n",
      "138  Team Competition       1147\n",
      "327        Basketball       1012\n",
      "337          Handball        973\n"
     ]
    },
    {
     "data": {
      "text/plain": [
       "<matplotlib.axes._subplots.AxesSubplot at 0x1f77d28ec88>"
      ]
     },
     "execution_count": 10,
     "metadata": {},
     "output_type": "execute_result"
    },
    {
     "data": {
      "image/png": "[encoded data removed]",
      "text/plain": [
       "<matplotlib.figure.Figure at 0x1f77d0132e8>"
      ]
     },
     "metadata": {
      "needs_background": "light"
     },
     "output_type": "display_data"
    }
   ],
   "source": [
    "#Defining an empty list.\n",
    "\n",
    "data6=[]\n",
    "\n",
    "#Iterating through all the unique names of EVENT and storing Event name & length of that DataFrame in DATA6.\n",
    "\n",
    "for Event in df[\"Event\"].unique():\n",
    "    data6.append([Event, len(df[df[\"Event\"]==Event])])\n",
    "    \n",
    "#Converting DATA5 list to DataFrame and sorting it in descending order.    \n",
    "    \n",
    "data6=pd.DataFrame(data6, columns=[\"Event\", \"Frequency\"]).sort_values(by=\"Frequency\", ascending=False)\n",
    "\n",
    "#Printing the top 5 values.\n",
    "\n",
    "print(\"The top 5 events popular in Summer Olympics based on the number of players: \")\n",
    "print(\" \")\n",
    "print(data6.head())\n",
    "\n",
    "#Forming a bar graph of the top 5 values using .plot() function.\n",
    "\n",
    "data6.head().plot(x=\"Event\", y=\"Frequency\", kind=\"bar\", figsize=(10,5))"
   ]
  },
  {
   "cell_type": "markdown",
   "metadata": {},
   "source": [
    "### 8. Which sport is having most female Gold Medalists? (Top 5)"
   ]
  },
  {
   "cell_type": "code",
   "execution_count": 11,
   "metadata": {},
   "outputs": [
    {
     "name": "stdout",
     "output_type": "stream",
     "text": [
      "The top 5 sports having most number of Female Gold Medalists: \n",
      " \n",
      "         Sport  Frequency\n",
      "4     Aquatics        589\n",
      "7    Athletics        389\n",
      "8   Gymnastics        268\n",
      "14      Rowing        217\n",
      "11  Volleyball        166\n"
     ]
    },
    {
     "data": {
      "text/plain": [
       "<matplotlib.axes._subplots.AxesSubplot at 0x1f77d1b2780>"
      ]
     },
     "execution_count": 11,
     "metadata": {},
     "output_type": "execute_result"
    },
    {
     "data": {
      "image/png": "[encoded data removed]",
      "text/plain": [
       "<matplotlib.figure.Figure at 0x1f77d21e550>"
      ]
     },
     "metadata": {
      "needs_background": "light"
     },
     "output_type": "display_data"
    }
   ],
   "source": [
    "#Making another DataFrame from the existing DataFrame where MEDAL==GOLD and GENDER=WOMEN.\n",
    "\n",
    "df4=df[(df[\"Medal\"]==\"Gold\") & (df[\"Gender\"]==\"Women\")]\n",
    "\n",
    "#Defining an empty list.\n",
    "\n",
    "data7=[]\n",
    "\n",
    "#Iterating through all the unique names of SPORT and storing sport name & length of that DataFrame in DATA7.\n",
    "\n",
    "for Sport in df4[\"Sport\"].unique():\n",
    "    data7.append([Sport, len(df4[df4[\"Sport\"]==Sport])])\n",
    "    \n",
    "#Converting DATA7 list to DataFrame and sorting it in descending order.\n",
    "    \n",
    "data7=pd.DataFrame(data7, columns=[\"Sport\", \"Frequency\"]).sort_values(by=\"Frequency\", ascending=False)\n",
    "\n",
    "#Printing the top 5 values.\n",
    "\n",
    "print(\"The top 5 sports having most number of Female Gold Medalists: \")\n",
    "print(\" \")\n",
    "print(data7.head())\n",
    "\n",
    "#Forming a bar graph of the top 5 values using .plot() function.\n",
    "\n",
    "data7.head().plot(x=\"Sport\", y=\"Frequency\", kind=\"bar\", figsize=(10,5))"
   ]
  },
  {
   "cell_type": "code",
   "execution_count": null,
   "metadata": {},
   "outputs": [],
   "source": []
  }
 ],
 "metadata": {
  "kernelspec": {
   "display_name": "Python 3",
   "language": "python",
   "name": "python3"
  },
  "language_info": {
   "codemirror_mode": {
    "name": "ipython",
    "version": 3
   },
   "file_extension": ".py",
   "mimetype": "text/x-python",
   "name": "python",
   "nbconvert_exporter": "python",
   "pygments_lexer": "ipython3",
   "version": "3.6.4"
  }
 },
 "nbformat": 4,
 "nbformat_minor": 2
}
